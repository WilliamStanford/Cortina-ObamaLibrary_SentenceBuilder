{
 "cells": [
  {
   "cell_type": "code",
   "execution_count": 2,
   "metadata": {},
   "outputs": [
    {
     "name": "stdout",
     "output_type": "stream",
     "text": [
      "Requirement already satisfied: pymilvus[model] in /opt/homebrew/lib/python3.10/site-packages (2.4.7)\n",
      "Requirement already satisfied: protobuf>=3.20.0 in /opt/homebrew/lib/python3.10/site-packages (from pymilvus[model]) (4.21.7)\n",
      "Requirement already satisfied: setuptools>69 in /opt/homebrew/lib/python3.10/site-packages (from pymilvus[model]) (75.1.0)\n",
      "Requirement already satisfied: pandas>=1.2.4 in /opt/homebrew/lib/python3.10/site-packages (from pymilvus[model]) (2.2.3)\n",
      "Requirement already satisfied: grpcio>=1.49.1 in /opt/homebrew/lib/python3.10/site-packages (from pymilvus[model]) (1.66.1)\n",
      "Requirement already satisfied: milvus-lite<2.5.0,>=2.4.0 in /opt/homebrew/lib/python3.10/site-packages (from pymilvus[model]) (2.4.10)\n",
      "Requirement already satisfied: ujson>=2.0.0 in /opt/homebrew/lib/python3.10/site-packages (from pymilvus[model]) (5.10.0)\n",
      "Requirement already satisfied: environs<=9.5.0 in /opt/homebrew/lib/python3.10/site-packages (from pymilvus[model]) (9.5.0)\n",
      "Requirement already satisfied: milvus-model>=0.1.0 in /opt/homebrew/lib/python3.10/site-packages (from pymilvus[model]) (0.2.6)\n",
      "Requirement already satisfied: marshmallow>=3.0.0 in /opt/homebrew/lib/python3.10/site-packages (from environs<=9.5.0->pymilvus[model]) (3.22.0)\n",
      "Requirement already satisfied: python-dotenv in /opt/homebrew/lib/python3.10/site-packages (from environs<=9.5.0->pymilvus[model]) (1.0.1)\n",
      "Requirement already satisfied: tqdm in /opt/homebrew/lib/python3.10/site-packages (from milvus-lite<2.5.0,>=2.4.0->pymilvus[model]) (4.64.1)\n",
      "Requirement already satisfied: onnxruntime in /opt/homebrew/lib/python3.10/site-packages (from milvus-model>=0.1.0->pymilvus[model]) (1.19.2)\n",
      "Requirement already satisfied: scipy>=1.10.0 in /opt/homebrew/lib/python3.10/site-packages (from milvus-model>=0.1.0->pymilvus[model]) (1.14.1)\n",
      "Requirement already satisfied: transformers>=4.36.0 in /opt/homebrew/lib/python3.10/site-packages (from milvus-model>=0.1.0->pymilvus[model]) (4.45.1)\n",
      "Requirement already satisfied: numpy in /opt/homebrew/lib/python3.10/site-packages (from milvus-model>=0.1.0->pymilvus[model]) (1.24.2)\n",
      "Requirement already satisfied: tzdata>=2022.7 in /opt/homebrew/lib/python3.10/site-packages (from pandas>=1.2.4->pymilvus[model]) (2024.2)\n",
      "Requirement already satisfied: python-dateutil>=2.8.2 in /Users/williamstanford/Library/Python/3.10/lib/python/site-packages (from pandas>=1.2.4->pymilvus[model]) (2.9.0.post0)\n",
      "Requirement already satisfied: pytz>=2020.1 in /opt/homebrew/lib/python3.10/site-packages (from pandas>=1.2.4->pymilvus[model]) (2024.2)\n",
      "Requirement already satisfied: packaging>=17.0 in /Users/williamstanford/Library/Python/3.10/lib/python/site-packages (from marshmallow>=3.0.0->environs<=9.5.0->pymilvus[model]) (24.1)\n",
      "Requirement already satisfied: six>=1.5 in /opt/homebrew/lib/python3.10/site-packages (from python-dateutil>=2.8.2->pandas>=1.2.4->pymilvus[model]) (1.16.0)\n",
      "Requirement already satisfied: safetensors>=0.4.1 in /opt/homebrew/lib/python3.10/site-packages (from transformers>=4.36.0->milvus-model>=0.1.0->pymilvus[model]) (0.4.5)\n",
      "Requirement already satisfied: huggingface-hub<1.0,>=0.23.2 in /opt/homebrew/lib/python3.10/site-packages (from transformers>=4.36.0->milvus-model>=0.1.0->pymilvus[model]) (0.25.1)\n",
      "Requirement already satisfied: tokenizers<0.21,>=0.20 in /opt/homebrew/lib/python3.10/site-packages (from transformers>=4.36.0->milvus-model>=0.1.0->pymilvus[model]) (0.20.0)\n",
      "Requirement already satisfied: requests in /Users/williamstanford/Library/Python/3.10/lib/python/site-packages (from transformers>=4.36.0->milvus-model>=0.1.0->pymilvus[model]) (2.32.3)\n",
      "Requirement already satisfied: filelock in /opt/homebrew/lib/python3.10/site-packages (from transformers>=4.36.0->milvus-model>=0.1.0->pymilvus[model]) (3.16.1)\n",
      "Requirement already satisfied: regex!=2019.12.17 in /opt/homebrew/lib/python3.10/site-packages (from transformers>=4.36.0->milvus-model>=0.1.0->pymilvus[model]) (2024.9.11)\n",
      "Requirement already satisfied: pyyaml>=5.1 in /opt/homebrew/lib/python3.10/site-packages (from transformers>=4.36.0->milvus-model>=0.1.0->pymilvus[model]) (6.0)\n",
      "Requirement already satisfied: coloredlogs in /opt/homebrew/lib/python3.10/site-packages (from onnxruntime->milvus-model>=0.1.0->pymilvus[model]) (15.0.1)\n",
      "Requirement already satisfied: flatbuffers in /opt/homebrew/lib/python3.10/site-packages (from onnxruntime->milvus-model>=0.1.0->pymilvus[model]) (24.3.25)\n",
      "Requirement already satisfied: sympy in /opt/homebrew/lib/python3.10/site-packages (from onnxruntime->milvus-model>=0.1.0->pymilvus[model]) (1.13.3)\n",
      "Requirement already satisfied: fsspec>=2023.5.0 in /opt/homebrew/lib/python3.10/site-packages (from huggingface-hub<1.0,>=0.23.2->transformers>=4.36.0->milvus-model>=0.1.0->pymilvus[model]) (2024.9.0)\n",
      "Requirement already satisfied: typing-extensions>=3.7.4.3 in /Users/williamstanford/Library/Python/3.10/lib/python/site-packages (from huggingface-hub<1.0,>=0.23.2->transformers>=4.36.0->milvus-model>=0.1.0->pymilvus[model]) (4.12.2)\n",
      "Requirement already satisfied: humanfriendly>=9.1 in /opt/homebrew/lib/python3.10/site-packages (from coloredlogs->onnxruntime->milvus-model>=0.1.0->pymilvus[model]) (10.0)\n",
      "Requirement already satisfied: certifi>=2017.4.17 in /Users/williamstanford/Library/Python/3.10/lib/python/site-packages (from requests->transformers>=4.36.0->milvus-model>=0.1.0->pymilvus[model]) (2024.7.4)\n",
      "Requirement already satisfied: urllib3<3,>=1.21.1 in /Users/williamstanford/Library/Python/3.10/lib/python/site-packages (from requests->transformers>=4.36.0->milvus-model>=0.1.0->pymilvus[model]) (2.2.2)\n",
      "Requirement already satisfied: charset-normalizer<4,>=2 in /Users/williamstanford/Library/Python/3.10/lib/python/site-packages (from requests->transformers>=4.36.0->milvus-model>=0.1.0->pymilvus[model]) (3.3.2)\n",
      "Requirement already satisfied: idna<4,>=2.5 in /Users/williamstanford/Library/Python/3.10/lib/python/site-packages (from requests->transformers>=4.36.0->milvus-model>=0.1.0->pymilvus[model]) (3.7)\n",
      "Requirement already satisfied: mpmath<1.4,>=1.1.0 in /opt/homebrew/lib/python3.10/site-packages (from sympy->onnxruntime->milvus-model>=0.1.0->pymilvus[model]) (1.3.0)\n",
      "\n",
      "\u001b[1m[\u001b[0m\u001b[34;49mnotice\u001b[0m\u001b[1;39;49m]\u001b[0m\u001b[39;49m A new release of pip available: \u001b[0m\u001b[31;49m22.2.2\u001b[0m\u001b[39;49m -> \u001b[0m\u001b[32;49m24.2\u001b[0m\n",
      "\u001b[1m[\u001b[0m\u001b[34;49mnotice\u001b[0m\u001b[1;39;49m]\u001b[0m\u001b[39;49m To update, run: \u001b[0m\u001b[32;49mpython3.10 -m pip install --upgrade pip\u001b[0m\n",
      "Note: you may need to restart the kernel to use updated packages.\n"
     ]
    }
   ],
   "source": [
    " pip install \"pymilvus[model]\""
   ]
  },
  {
   "cell_type": "code",
   "execution_count": 3,
   "metadata": {},
   "outputs": [
    {
     "name": "stderr",
     "output_type": "stream",
     "text": [
      "/opt/homebrew/lib/python3.10/site-packages/transformers/tokenization_utils_base.py:1617: FutureWarning: `clean_up_tokenization_spaces` was not set. It will be set to `True` by default. This behavior will be deprecated in transformers v4.45, and will be then set to `False` by default. For more details check this issue: https://github.com/huggingface/transformers/issues/31884\n",
      "  warnings.warn(\n"
     ]
    }
   ],
   "source": [
    "from pymilvus import model\n",
    "from pymilvus import MilvusClient\n",
    "import json\n",
    "\n",
    "# This will download a small embedding model \"paraphrase-albert-small-v2\" (~50MB).\n",
    "# https://milvus.io/docs/embeddings.md\n",
    "embedding_fn = model.DefaultEmbeddingFunction()\n"
   ]
  },
  {
   "attachments": {},
   "cell_type": "markdown",
   "metadata": {},
   "source": [
    "# Database creation \n",
    "\n",
    "Create a database with the vector embeddings of the one-word thematic summaries of the sentence structures in options.json\n",
    "We use the one word summaries rather than the sentence to avoid the variable placeholders from influencing the semantic embeddings\n",
    "\n",
    "- One word summaries were generated via Claude-Sonnet 3.5 (In case you want to generate more sentences and one-word summaries)\n"
   ]
  },
  {
   "cell_type": "code",
   "execution_count": 30,
   "metadata": {},
   "outputs": [],
   "source": [
    "with open('options.json') as f:\n",
    "    options = json.load(f)\n",
    "\n",
    "sentence_structures = options['sentence_structures']\n",
    "\n",
    "# Creates a database with the vector embeddings of the one-word thematic summaries of the sentence structures in options.json\n",
    "# We use the one word summaries rather than the sentence to avoid the variable placeholders from influencing the semantic embeddings\n",
    "data = [\n",
    "    {\"id\": i, \n",
    "     \"vector\": embedding_fn.encode_documents(sentence_structures[i]['summary_word'])[0],  # Embeds summary word into vector\n",
    "     \"text\": sentence_structures[i]['summary_word'],\n",
    "     \"template\": sentence_structures[i]['template'],\n",
    "     \"x_type\": sentence_structures[i]['x_type']\n",
    "     } for i in range(len(sentence_structures))\n",
    "]\n",
    "\n",
    "# all that matters for search is the \"id\" and \"vector\" fields, the rest is metadata\n"
   ]
  },
  {
   "cell_type": "code",
   "execution_count": 31,
   "metadata": {},
   "outputs": [],
   "source": [
    "client = MilvusClient(\"sentence_summaries.db\")\n",
    "# This collection can take input with mandatory fields named \"id\", \"vector\" and\n",
    "# any other fields as \"dynamic schema\". You can also define the schema explicitly.\n",
    "client.create_collection(\n",
    "    collection_name=\"summary_word\", # This is the partition of the database, treat it like a SQL table\n",
    "    dimension=768  # Dimension for vectors.\n",
    ")\n",
    "\n",
    "client.insert(collection_name=\"summary_word\", data=data)\n"
   ]
  },
  {
   "attachments": {},
   "cell_type": "markdown",
   "metadata": {},
   "source": [
    "# Vector search\n",
    "\n",
    "Example of vector search \n",
    "\n",
    "Given the user selects \"Guidance, Heritage, Passionate\" to describe their Shaper, we search for the most similar one-word summary in the database we created earlier\n",
    "\n",
    "- This can be run locally as long as the database above has been generated. The embedding model is lightweight, should work on most systems.\n",
    "- I've added some randomness to this by returning 3 options, then randomly selecting from those 3.\n",
    "\n",
    "Currently main.py runs this method in the \"choose_sentence_structure()\" function\n",
    "\n",
    "Alternatively, you could precompute it for each n-tuple up to the number of options you want users to select, pre-select the sentence structure. This might be more in line with the \"One JSON to rule them all\" approach they've mentioned. Be warned though, this will take a while.\n",
    "\n",
    "The same strategy could also make sense for the {x} component of the \"My {shaper} is {x} and that {y} my {z}\" format"
   ]
  },
  {
   "cell_type": "code",
   "execution_count": 10,
   "metadata": {},
   "outputs": [
    {
     "data": {
      "text/plain": [
       "\"My {shaper}'s reputation as {x} in our community actively {y} my own {z}.\""
      ]
     },
     "execution_count": 10,
     "metadata": {},
     "output_type": "execute_result"
    }
   ],
   "source": [
    "\n",
    "import random \n",
    "\n",
    "query_vectors = embedding_fn.encode_queries([\"Guidance, Heritage, Passionate\"])\n",
    "\n",
    "res = client.search(\n",
    "    collection_name=\"summary_word\",  # target collection\n",
    "    data=query_vectors,  # query vectors\n",
    "    limit=3,  # number of returned entities\n",
    "    output_fields=[\"text\", \"template\", \"x_type\"],  # specifies fields to be returned\n",
    ")\n",
    "dumped_data = json.dumps(res)\n",
    "parsed_data = json.loads(dumped_data)[0]\n",
    "chosen_data = random.choice(parsed_data)\n",
    "chosen_data['entity']['template']\n"
   ]
  },
  {
   "cell_type": "code",
   "execution_count": 11,
   "metadata": {},
   "outputs": [
    {
     "data": {
      "text/plain": [
       "[{'id': 19,\n",
       "  'distance': 0.31910303235054016,\n",
       "  'entity': {'text': 'Instructive',\n",
       "   'template': 'In the classroom of life, my {shaper}, {x} in every lesson, patiently {y} my {z}.',\n",
       "   'x_type': 'x'}},\n",
       " {'id': 16,\n",
       "  'distance': 0.31910303235054016,\n",
       "  'entity': {'text': 'Interwoven',\n",
       "   'template': \"In the tapestry of my life, my {shaper}'s influence as {x} intricately {y} the threads of my {z}.\",\n",
       "   'x_type': 'x'}},\n",
       " {'id': 6,\n",
       "  'distance': 0.31910303235054016,\n",
       "  'entity': {'text': 'Influential',\n",
       "   'template': \"My {shaper}'s reputation as {x} in our community actively {y} my own {z}.\",\n",
       "   'x_type': 'x'}}]"
      ]
     },
     "execution_count": 11,
     "metadata": {},
     "output_type": "execute_result"
    }
   ],
   "source": [
    "parsed_data"
   ]
  },
  {
   "cell_type": "code",
   "execution_count": 85,
   "metadata": {},
   "outputs": [
    {
     "data": {
      "text/plain": [
       "{'id': 6,\n",
       " 'distance': 0.3191031217575073,\n",
       " 'entity': {'text': 'Influential',\n",
       "  'template': \"My {shaper}'s reputation as {x} in our community actively {y} my own {z}.\",\n",
       "  'x_type': 'x'}}"
      ]
     },
     "execution_count": 85,
     "metadata": {},
     "output_type": "execute_result"
    }
   ],
   "source": [
    "chosen_data"
   ]
  },
  {
   "attachments": {},
   "cell_type": "markdown",
   "metadata": {},
   "source": [
    "# Not Implemented\n",
    "\n",
    "1. Filtering options for the sentence construction via answers about self. \n",
    "2. Viewing other similar sentences after constructing your own\n"
   ]
  },
  {
   "attachments": {},
   "cell_type": "markdown",
   "metadata": {},
   "source": [
    "# 1. Filtering options for the sentence construction via answers about self\n",
    "\n",
    "I believe this makes this most sense when chosing options to display to users for {z}, and potentially {y} of the \"My {shaper} is {x} and that {y} my {z}\"\n",
    "\n",
    "To do this, we take the answers about self, for example: \"Rebel\", \"Fearless\", \"Timid\", \"Immigrant\", and search through semantically similar options in the {z} or {y} options.\n",
    "\n"
   ]
  },
  {
   "cell_type": "code",
   "execution_count": 6,
   "metadata": {},
   "outputs": [
    {
     "data": {
      "text/plain": [
       "{'insert_count': 30, 'ids': [0, 1, 2, 3, 4, 5, 6, 7, 8, 9, 10, 11, 12, 13, 14, 15, 16, 17, 18, 19, 20, 21, 22, 23, 24, 25, 26, 27, 28, 29], 'cost': 0}"
      ]
     },
     "execution_count": 6,
     "metadata": {},
     "output_type": "execute_result"
    }
   ],
   "source": [
    "# Partition Setup\n",
    "\n",
    "with open('options.json') as f:\n",
    "    options = json.load(f)\n",
    "    \n",
    "client = MilvusClient(\"sentence_summaries.db\")\n",
    "\n",
    "client.create_collection(\n",
    "    collection_name=\"z_words\", # This is the partition of the database, treat it like a SQL table\n",
    "    dimension=768  # Dimension for vectors.\n",
    ")\n",
    "\n",
    "data = [\n",
    "    {\"id\": i, \n",
    "     \"vector\": embedding_fn.encode_documents(options[\"z\"][i])[0],  # Embeds summary word into vector\n",
    "     \"text\": options[\"z\"][i],\n",
    "     } for i in range(len(options[\"z\"]))\n",
    "]\n",
    "\n",
    "client.insert(collection_name=\"z_words\", data=data)\n",
    "\n"
   ]
  },
  {
   "cell_type": "code",
   "execution_count": 7,
   "metadata": {},
   "outputs": [],
   "source": [
    "# Then, we search through and return the 20 most similar, we could limit the number we show to the user to ~8, and randomly select from these\n",
    "\n",
    "query_vectors = embedding_fn.encode_queries([\"Rebel, Fearless, Timid, Immigrant\"])\n",
    "\n",
    "res = client.search(\n",
    "    collection_name=\"z_words\",  # target collection\n",
    "    data=query_vectors,  # query vectors\n",
    "    limit=20,  # number of returned entities\n",
    "    output_fields=[\"text\"],  # specifies fields to be returned\n",
    ")\n",
    "dumped_data = json.dumps(res)\n",
    "parsed_data = json.loads(dumped_data)[0]\n",
    "\n",
    "final_choices = [choice['entity']['text'] for choice in parsed_data]\n",
    "final_choices"
   ]
  },
  {
   "cell_type": "code",
   "execution_count": 12,
   "metadata": {},
   "outputs": [
    {
     "data": {
      "text/plain": [
       "['assertiveness',\n",
       " 'adaptability',\n",
       " 'innovation',\n",
       " 'integrity',\n",
       " 'leadership skills',\n",
       " 'social responsibility',\n",
       " 'self-discipline',\n",
       " 'sense of purpose',\n",
       " 'self-confidence',\n",
       " 'work ethic',\n",
       " 'time management',\n",
       " 'digital literacy',\n",
       " 'mindfulness',\n",
       " 'financial literacy',\n",
       " 'emotional intelligence',\n",
       " 'empathy',\n",
       " 'ethical decision-making',\n",
       " 'environmental consciousness',\n",
       " 'resilience',\n",
       " 'global perspective']"
      ]
     },
     "execution_count": 12,
     "metadata": {},
     "output_type": "execute_result"
    }
   ],
   "source": [
    "final_choices"
   ]
  },
  {
   "attachments": {},
   "cell_type": "markdown",
   "metadata": {},
   "source": [
    "# 2. Viewing similar sentences after constructing your own\n",
    "\n",
    "Suggested strategy\n",
    "- Construct all possible sentences\n",
    "- Add metadata to each of them that they would want to filter by.\n",
    "- Add a flag that indicates if the sentence is in-use\n",
    "- Add metadata for source template\n",
    "\n",
    "Then you can limit your search for similar sentences using filters which will speed up processing time. \n",
    "\n",
    "See here for an example (https://milvus.io/docs/quickstart.md#Load-Existing-Data)\n"
   ]
  },
  {
   "cell_type": "markdown",
   "metadata": {},
   "source": []
  }
 ],
 "metadata": {
  "kernelspec": {
   "display_name": "Python 3",
   "language": "python",
   "name": "python3"
  },
  "language_info": {
   "codemirror_mode": {
    "name": "ipython",
    "version": 3
   },
   "file_extension": ".py",
   "mimetype": "text/x-python",
   "name": "python",
   "nbconvert_exporter": "python",
   "pygments_lexer": "ipython3",
   "version": "3.10.8"
  },
  "orig_nbformat": 4,
  "vscode": {
   "interpreter": {
    "hash": "b0fa6594d8f4cbf19f97940f81e996739fb7646882a419484c72d19e05852a7e"
   }
  }
 },
 "nbformat": 4,
 "nbformat_minor": 2
}
